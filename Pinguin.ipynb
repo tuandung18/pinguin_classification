{
 "cells": [
  {
   "cell_type": "code",
   "execution_count": 21,
   "metadata": {
    "ExecuteTime": {
     "end_time": "2023-11-27T21:47:22.697622Z",
     "start_time": "2023-11-27T21:47:22.692291Z"
    }
   },
   "outputs": [],
   "source": [
    "import pandas as pd\n",
    "import matplotlib as plt\n",
    "import numpy as np\n",
    "from sklearn.tree import DecisionTreeClassifier\n",
    "from sklearn.model_selection import train_test_split"
   ]
  },
  {
   "cell_type": "code",
   "execution_count": 22,
   "metadata": {
    "ExecuteTime": {
     "end_time": "2023-11-27T21:47:22.712927Z",
     "start_time": "2023-11-27T21:47:22.697457Z"
    }
   },
   "outputs": [
    {
     "data": {
      "text/plain": "  studyName  Sample Number                              Species  Region  \\\n0   PAL0708              1  Adelie Penguin (Pygoscelis adeliae)  Anvers   \n1   PAL0708              2  Adelie Penguin (Pygoscelis adeliae)  Anvers   \n2   PAL0708              3  Adelie Penguin (Pygoscelis adeliae)  Anvers   \n3   PAL0708              4  Adelie Penguin (Pygoscelis adeliae)  Anvers   \n4   PAL0708              5  Adelie Penguin (Pygoscelis adeliae)  Anvers   \n\n      Island               Stage Individual ID Clutch Completion  Date Egg  \\\n0  Torgersen  Adult, 1 Egg Stage          N1A1               Yes  11/11/07   \n1  Torgersen  Adult, 1 Egg Stage          N1A2               Yes  11/11/07   \n2  Torgersen  Adult, 1 Egg Stage          N2A1               Yes  11/16/07   \n3  Torgersen  Adult, 1 Egg Stage          N2A2               Yes  11/16/07   \n4  Torgersen  Adult, 1 Egg Stage          N3A1               Yes  11/16/07   \n\n   Culmen Length (mm)  Culmen Depth (mm)  Flipper Length (mm)  Body Mass (g)  \\\n0                39.1               18.7                181.0         3750.0   \n1                39.5               17.4                186.0         3800.0   \n2                40.3               18.0                195.0         3250.0   \n3                 NaN                NaN                  NaN            NaN   \n4                36.7               19.3                193.0         3450.0   \n\n      Sex  Delta 15 N (o/oo)  Delta 13 C (o/oo)  \\\n0    MALE                NaN                NaN   \n1  FEMALE            8.94956          -24.69454   \n2  FEMALE            8.36821          -25.33302   \n3     NaN                NaN                NaN   \n4  FEMALE            8.76651          -25.32426   \n\n                         Comments  \n0  Not enough blood for isotopes.  \n1                             NaN  \n2                             NaN  \n3              Adult not sampled.  \n4                             NaN  ",
      "text/html": "<div>\n<style scoped>\n    .dataframe tbody tr th:only-of-type {\n        vertical-align: middle;\n    }\n\n    .dataframe tbody tr th {\n        vertical-align: top;\n    }\n\n    .dataframe thead th {\n        text-align: right;\n    }\n</style>\n<table border=\"1\" class=\"dataframe\">\n  <thead>\n    <tr style=\"text-align: right;\">\n      <th></th>\n      <th>studyName</th>\n      <th>Sample Number</th>\n      <th>Species</th>\n      <th>Region</th>\n      <th>Island</th>\n      <th>Stage</th>\n      <th>Individual ID</th>\n      <th>Clutch Completion</th>\n      <th>Date Egg</th>\n      <th>Culmen Length (mm)</th>\n      <th>Culmen Depth (mm)</th>\n      <th>Flipper Length (mm)</th>\n      <th>Body Mass (g)</th>\n      <th>Sex</th>\n      <th>Delta 15 N (o/oo)</th>\n      <th>Delta 13 C (o/oo)</th>\n      <th>Comments</th>\n    </tr>\n  </thead>\n  <tbody>\n    <tr>\n      <th>0</th>\n      <td>PAL0708</td>\n      <td>1</td>\n      <td>Adelie Penguin (Pygoscelis adeliae)</td>\n      <td>Anvers</td>\n      <td>Torgersen</td>\n      <td>Adult, 1 Egg Stage</td>\n      <td>N1A1</td>\n      <td>Yes</td>\n      <td>11/11/07</td>\n      <td>39.1</td>\n      <td>18.7</td>\n      <td>181.0</td>\n      <td>3750.0</td>\n      <td>MALE</td>\n      <td>NaN</td>\n      <td>NaN</td>\n      <td>Not enough blood for isotopes.</td>\n    </tr>\n    <tr>\n      <th>1</th>\n      <td>PAL0708</td>\n      <td>2</td>\n      <td>Adelie Penguin (Pygoscelis adeliae)</td>\n      <td>Anvers</td>\n      <td>Torgersen</td>\n      <td>Adult, 1 Egg Stage</td>\n      <td>N1A2</td>\n      <td>Yes</td>\n      <td>11/11/07</td>\n      <td>39.5</td>\n      <td>17.4</td>\n      <td>186.0</td>\n      <td>3800.0</td>\n      <td>FEMALE</td>\n      <td>8.94956</td>\n      <td>-24.69454</td>\n      <td>NaN</td>\n    </tr>\n    <tr>\n      <th>2</th>\n      <td>PAL0708</td>\n      <td>3</td>\n      <td>Adelie Penguin (Pygoscelis adeliae)</td>\n      <td>Anvers</td>\n      <td>Torgersen</td>\n      <td>Adult, 1 Egg Stage</td>\n      <td>N2A1</td>\n      <td>Yes</td>\n      <td>11/16/07</td>\n      <td>40.3</td>\n      <td>18.0</td>\n      <td>195.0</td>\n      <td>3250.0</td>\n      <td>FEMALE</td>\n      <td>8.36821</td>\n      <td>-25.33302</td>\n      <td>NaN</td>\n    </tr>\n    <tr>\n      <th>3</th>\n      <td>PAL0708</td>\n      <td>4</td>\n      <td>Adelie Penguin (Pygoscelis adeliae)</td>\n      <td>Anvers</td>\n      <td>Torgersen</td>\n      <td>Adult, 1 Egg Stage</td>\n      <td>N2A2</td>\n      <td>Yes</td>\n      <td>11/16/07</td>\n      <td>NaN</td>\n      <td>NaN</td>\n      <td>NaN</td>\n      <td>NaN</td>\n      <td>NaN</td>\n      <td>NaN</td>\n      <td>NaN</td>\n      <td>Adult not sampled.</td>\n    </tr>\n    <tr>\n      <th>4</th>\n      <td>PAL0708</td>\n      <td>5</td>\n      <td>Adelie Penguin (Pygoscelis adeliae)</td>\n      <td>Anvers</td>\n      <td>Torgersen</td>\n      <td>Adult, 1 Egg Stage</td>\n      <td>N3A1</td>\n      <td>Yes</td>\n      <td>11/16/07</td>\n      <td>36.7</td>\n      <td>19.3</td>\n      <td>193.0</td>\n      <td>3450.0</td>\n      <td>FEMALE</td>\n      <td>8.76651</td>\n      <td>-25.32426</td>\n      <td>NaN</td>\n    </tr>\n  </tbody>\n</table>\n</div>"
     },
     "execution_count": 22,
     "metadata": {},
     "output_type": "execute_result"
    }
   ],
   "source": [
    "data = pd.read_csv('penguins_lter.csv', delimiter=';')\n",
    "data.head()"
   ]
  },
  {
   "cell_type": "code",
   "execution_count": 26,
   "metadata": {
    "ExecuteTime": {
     "end_time": "2023-11-27T21:49:08.992643Z",
     "start_time": "2023-11-27T21:49:08.986789Z"
    }
   },
   "outputs": [],
   "source": [
    "def prediction(len_culmen, dep_culmen, len_flipper, body_mass, delta15, delta13):\n",
    "    X = data.filter(['Culmen Length (mm)', 'Culmen Depth (mm)','Flipper Length (mm)','Body Mass (g)', 'Delta 15 N (o/oo)', 'Delta 13 C (o/oo)'])\n",
    "    #print(X)\n",
    "    Y = data.filter(['Species'])\n",
    "    #print(Y)\n",
    "    \n",
    "    X_train, X_test, Y_train, Y_test = train_test_split(X,Y,test_size=0.5)\n",
    "    \n",
    "    \n",
    "    model = DecisionTreeClassifier()\n",
    "    \n",
    "    model.fit(X_train.values, Y_train.values)\n",
    "    \n",
    "    prediction =  model.predict([[len_culmen, dep_culmen, len_flipper, body_mass, delta15, delta13]])\n",
    "    \n",
    "    return prediction\n",
    "    "
   ]
  },
  {
   "cell_type": "code",
   "execution_count": 27,
   "metadata": {
    "ExecuteTime": {
     "end_time": "2023-11-27T21:49:12.900387Z",
     "start_time": "2023-11-27T21:49:12.888756Z"
    }
   },
   "outputs": [
    {
     "data": {
      "text/plain": "array(['Gentoo penguin (Pygoscelis papua)'], dtype=object)"
     },
     "execution_count": 27,
     "metadata": {},
     "output_type": "execute_result"
    }
   ],
   "source": [
    "#PAL0910;105;Gentoo penguin (Pygoscelis papua);Anvers;Biscoe;Adult, 1 Egg Stage;N24A1;Yes;12/1/09;47.3;13.8;216;4725;;8.25818;-26.23886;\n",
    "# PAL0910;58;Chinstrap penguin (Pygoscelis antarctica);Anvers;Dream;Adult, 1 Egg Stage;N94A2;Yes;11/21/09;49.3;19.9;203;4050;MALE;9.88809;-24.59513;\n",
    "len_cul = 47.3\n",
    "dep_cul = 13.8\n",
    "len_flip = 216\n",
    "mass = 4725\n",
    "delta15 = 8.25818\n",
    "delta13 = -26.23886\n",
    "\n",
    "prediction(len_cul, dep_cul, len_flip, mass, delta15, delta13)"
   ]
  },
  {
   "cell_type": "code",
   "execution_count": 28,
   "outputs": [
    {
     "data": {
      "text/plain": "array(['Chinstrap penguin (Pygoscelis antarctica)'], dtype=object)"
     },
     "execution_count": 28,
     "metadata": {},
     "output_type": "execute_result"
    }
   ],
   "source": [
    "#PAL0910;58;Chinstrap penguin (Pygoscelis antarctica);Anvers;Dream;Adult, 1 Egg Stage;N94A2;Yes;11/21/09;49.3;19.9;203;4050;MALE;9.88809;-24.59513;\n",
    "len_cul = 49.3\n",
    "dep_cul = 19.9\n",
    "len_flip = 203\n",
    "mass = 4050\n",
    "delta15 = 9.88809\n",
    "delta13 = -24.59513\n",
    "prediction(len_cul, dep_cul, len_flip, mass, delta15, delta13)"
   ],
   "metadata": {
    "collapsed": false,
    "ExecuteTime": {
     "end_time": "2023-11-27T21:49:14.411712Z",
     "start_time": "2023-11-27T21:49:14.404419Z"
    }
   }
  }
 ],
 "metadata": {
  "kernelspec": {
   "display_name": "base",
   "language": "python",
   "name": "python3"
  },
  "language_info": {
   "codemirror_mode": {
    "name": "ipython",
    "version": 3
   },
   "file_extension": ".py",
   "mimetype": "text/x-python",
   "name": "python",
   "nbconvert_exporter": "python",
   "pygments_lexer": "ipython3",
   "version": "3.11.5"
  }
 },
 "nbformat": 4,
 "nbformat_minor": 2
}
